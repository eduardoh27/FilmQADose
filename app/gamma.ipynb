{
 "cells": [
  {
   "cell_type": "code",
   "execution_count": 10,
   "metadata": {},
   "outputs": [
    {
     "name": "stdout",
     "output_type": "stream",
     "text": [
      "Requirement already satisfied: numpy in c:\\users\\eduar\\onedrive - universidad de los andes\\2025-10\\tesis física\\filmqadose rama alternativa\\filmqadose\\venv_gamma\\lib\\site-packages (2.0.2)\n"
     ]
    },
    {
     "name": "stderr",
     "output_type": "stream",
     "text": [
      "WARNING: You are using pip version 21.2.3; however, version 25.0.1 is available.\n",
      "You should consider upgrading via the 'C:\\Users\\eduar\\OneDrive - Universidad de los Andes\\2025-10\\Tesis Física\\FilmQADose rama alternativa\\FilmQADose\\venv_gamma\\Scripts\\python.exe -m pip install --upgrade pip' command.\n"
     ]
    }
   ],
   "source": [
    "!pip install numpy"
   ]
  },
  {
   "cell_type": "code",
   "execution_count": 11,
   "metadata": {},
   "outputs": [
    {
     "name": "stdout",
     "output_type": "stream",
     "text": [
      "Piramide102mm.dcm\n"
     ]
    },
    {
     "ename": "RuntimeError",
     "evalue": "The following handlers are available to decode the pixel data however they are missing required dependencies: Numpy (req. )",
     "output_type": "error",
     "traceback": [
      "\u001b[1;31m---------------------------------------------------------------------------\u001b[0m",
      "\u001b[1;31mRuntimeError\u001b[0m                              Traceback (most recent call last)",
      "Cell \u001b[1;32mIn[11], line 19\u001b[0m\n\u001b[0;32m     16\u001b[0m ds \u001b[38;5;241m=\u001b[39m dicom\u001b[38;5;241m.\u001b[39mdcmread(os\u001b[38;5;241m.\u001b[39mpath\u001b[38;5;241m.\u001b[39mjoin(folder_path, filenameDCM))\n\u001b[0;32m     18\u001b[0m \u001b[38;5;66;03m# search the positions in the matrix where the pixel value es 2147483647     \u001b[39;00m\n\u001b[1;32m---> 19\u001b[0m \u001b[38;5;28mprint\u001b[39m(np\u001b[38;5;241m.\u001b[39msum(\u001b[43mds\u001b[49m\u001b[38;5;241;43m.\u001b[39;49m\u001b[43mpixel_array\u001b[49m \u001b[38;5;241m==\u001b[39m \u001b[38;5;241m2147483647\u001b[39m))\n\u001b[0;32m     20\u001b[0m \u001b[38;5;66;03m# send those values to 0\u001b[39;00m\n\u001b[0;32m     21\u001b[0m ds\u001b[38;5;241m.\u001b[39mpixel_array[ds\u001b[38;5;241m.\u001b[39mpixel_array \u001b[38;5;241m==\u001b[39m \u001b[38;5;241m2147483647\u001b[39m] \u001b[38;5;241m=\u001b[39m \u001b[38;5;241m0\u001b[39m\n",
      "File \u001b[1;32mc:\\Users\\eduar\\OneDrive - Universidad de los Andes\\2025-10\\Tesis Física\\FilmQADose rama alternativa\\FilmQADose\\venv_gamma\\lib\\site-packages\\pydicom\\dataset.py:1955\u001b[0m, in \u001b[0;36mDataset.pixel_array\u001b[1;34m(self)\u001b[0m\n\u001b[0;32m   1940\u001b[0m \u001b[38;5;129m@property\u001b[39m\n\u001b[0;32m   1941\u001b[0m \u001b[38;5;28;01mdef\u001b[39;00m\u001b[38;5;250m \u001b[39m\u001b[38;5;21mpixel_array\u001b[39m(\u001b[38;5;28mself\u001b[39m) \u001b[38;5;241m-\u001b[39m\u001b[38;5;241m>\u001b[39m \u001b[38;5;124m\"\u001b[39m\u001b[38;5;124mnumpy.ndarray\u001b[39m\u001b[38;5;124m\"\u001b[39m:\n\u001b[0;32m   1942\u001b[0m \u001b[38;5;250m    \u001b[39m\u001b[38;5;124;03m\"\"\"Return the pixel data as a :class:`numpy.ndarray`.\u001b[39;00m\n\u001b[0;32m   1943\u001b[0m \n\u001b[0;32m   1944\u001b[0m \u001b[38;5;124;03m    .. versionchanged:: 1.4\u001b[39;00m\n\u001b[1;32m   (...)\u001b[0m\n\u001b[0;32m   1953\u001b[0m \u001b[38;5;124;03m        :class:`numpy.ndarray`.\u001b[39;00m\n\u001b[0;32m   1954\u001b[0m \u001b[38;5;124;03m    \"\"\"\u001b[39;00m\n\u001b[1;32m-> 1955\u001b[0m     \u001b[38;5;28;43mself\u001b[39;49m\u001b[38;5;241;43m.\u001b[39;49m\u001b[43mconvert_pixel_data\u001b[49m\u001b[43m(\u001b[49m\u001b[43m)\u001b[49m\n\u001b[0;32m   1956\u001b[0m     \u001b[38;5;28;01mreturn\u001b[39;00m cast(\u001b[38;5;124m\"\u001b[39m\u001b[38;5;124mnumpy.ndarray\u001b[39m\u001b[38;5;124m\"\u001b[39m, \u001b[38;5;28mself\u001b[39m\u001b[38;5;241m.\u001b[39m_pixel_array)\n",
      "File \u001b[1;32mc:\\Users\\eduar\\OneDrive - Universidad de los Andes\\2025-10\\Tesis Física\\FilmQADose rama alternativa\\FilmQADose\\venv_gamma\\lib\\site-packages\\pydicom\\dataset.py:1512\u001b[0m, in \u001b[0;36mDataset.convert_pixel_data\u001b[1;34m(self, handler_name)\u001b[0m\n\u001b[0;32m   1510\u001b[0m     \u001b[38;5;28mself\u001b[39m\u001b[38;5;241m.\u001b[39m_convert_pixel_data_using_handler(handler_name)\n\u001b[0;32m   1511\u001b[0m \u001b[38;5;28;01melse\u001b[39;00m:\n\u001b[1;32m-> 1512\u001b[0m     \u001b[38;5;28;43mself\u001b[39;49m\u001b[38;5;241;43m.\u001b[39;49m\u001b[43m_convert_pixel_data_without_handler\u001b[49m\u001b[43m(\u001b[49m\u001b[43m)\u001b[49m\n",
      "File \u001b[1;32mc:\\Users\\eduar\\OneDrive - Universidad de los Andes\\2025-10\\Tesis Física\\FilmQADose rama alternativa\\FilmQADose\\venv_gamma\\lib\\site-packages\\pydicom\\dataset.py:1599\u001b[0m, in \u001b[0;36mDataset._convert_pixel_data_without_handler\u001b[1;34m(self)\u001b[0m\n\u001b[0;32m   1593\u001b[0m         names \u001b[38;5;241m=\u001b[39m [hh_deps[name][\u001b[38;5;241m1\u001b[39m] \u001b[38;5;28;01mfor\u001b[39;00m name \u001b[38;5;129;01min\u001b[39;00m missing]\n\u001b[0;32m   1594\u001b[0m         pkg_msg\u001b[38;5;241m.\u001b[39mappend(\n\u001b[0;32m   1595\u001b[0m             \u001b[38;5;124mf\u001b[39m\u001b[38;5;124m\"\u001b[39m\u001b[38;5;132;01m{\u001b[39;00mhh\u001b[38;5;241m.\u001b[39mHANDLER_NAME\u001b[38;5;132;01m}\u001b[39;00m\u001b[38;5;124m \u001b[39m\u001b[38;5;124m\"\u001b[39m\n\u001b[0;32m   1596\u001b[0m             \u001b[38;5;124mf\u001b[39m\u001b[38;5;124m\"\u001b[39m\u001b[38;5;124m(req. \u001b[39m\u001b[38;5;132;01m{\u001b[39;00m\u001b[38;5;124m'\u001b[39m\u001b[38;5;124m, \u001b[39m\u001b[38;5;124m'\u001b[39m\u001b[38;5;241m.\u001b[39mjoin(names)\u001b[38;5;132;01m}\u001b[39;00m\u001b[38;5;124m)\u001b[39m\u001b[38;5;124m\"\u001b[39m\n\u001b[0;32m   1597\u001b[0m         )\n\u001b[1;32m-> 1599\u001b[0m     \u001b[38;5;28;01mraise\u001b[39;00m \u001b[38;5;167;01mRuntimeError\u001b[39;00m(msg \u001b[38;5;241m+\u001b[39m \u001b[38;5;124m'\u001b[39m\u001b[38;5;124m, \u001b[39m\u001b[38;5;124m'\u001b[39m\u001b[38;5;241m.\u001b[39mjoin(pkg_msg))\n\u001b[0;32m   1601\u001b[0m last_exception \u001b[38;5;241m=\u001b[39m \u001b[38;5;28;01mNone\u001b[39;00m\n\u001b[0;32m   1602\u001b[0m \u001b[38;5;28;01mfor\u001b[39;00m handler \u001b[38;5;129;01min\u001b[39;00m available_handlers:\n",
      "\u001b[1;31mRuntimeError\u001b[0m: The following handlers are available to decode the pixel data however they are missing required dependencies: Numpy (req. )"
     ]
    }
   ],
   "source": [
    "import pydicom as dicom\n",
    "import matplotlib.pyplot as plt\n",
    "import os\n",
    "import numpy as np\n",
    "\n",
    "# specify your image path\n",
    "folder_path = os.path.join('media', 'Juliana 2')\n",
    "\n",
    "\n",
    "\n",
    "# go through all the dicom files in the folder\n",
    "for filenameDCM in os.listdir(folder_path):\n",
    "\n",
    "    print(filenameDCM)\n",
    "\n",
    "    ds = dicom.dcmread(os.path.join(folder_path, filenameDCM))\n",
    "\n",
    "    # search the positions in the matrix where the pixel value es 2147483647     \n",
    "    print(np.sum(ds.pixel_array == 2147483647))\n",
    "    # send those values to 0\n",
    "    ds.pixel_array[ds.pixel_array == 2147483647] = 0\n",
    "    print(ds.pixel_array.shape)\n",
    "    print(np.sum(ds.pixel_array))\n",
    "    plt.imshow(ds.pixel_array)\n",
    "    plt.show()\n"
   ]
  },
  {
   "cell_type": "code",
   "execution_count": 16,
   "metadata": {},
   "outputs": [
    {
     "ename": "RuntimeError",
     "evalue": "The following handlers are available to decode the pixel data however they are missing required dependencies: Numpy (req. )",
     "output_type": "error",
     "traceback": [
      "\u001b[1;31m---------------------------------------------------------------------------\u001b[0m",
      "\u001b[1;31mRuntimeError\u001b[0m                              Traceback (most recent call last)",
      "Cell \u001b[1;32mIn[16], line 14\u001b[0m\n\u001b[0;32m     11\u001b[0m ds1 \u001b[38;5;241m=\u001b[39m dcmread(os\u001b[38;5;241m.\u001b[39mpath\u001b[38;5;241m.\u001b[39mjoin(folder_path, \u001b[38;5;124m'\u001b[39m\u001b[38;5;124mPiramieGamma.dcm\u001b[39m\u001b[38;5;124m'\u001b[39m))\n\u001b[0;32m     12\u001b[0m ds2 \u001b[38;5;241m=\u001b[39m dcmread(os\u001b[38;5;241m.\u001b[39mpath\u001b[38;5;241m.\u001b[39mjoin(folder_path, \u001b[38;5;124m'\u001b[39m\u001b[38;5;124mPiramide2laminas.dcm\u001b[39m\u001b[38;5;124m'\u001b[39m))\n\u001b[1;32m---> 14\u001b[0m reference \u001b[38;5;241m=\u001b[39m \u001b[43mds1\u001b[49m\u001b[38;5;241;43m.\u001b[39;49m\u001b[43mpixel_array\u001b[49m\u001b[38;5;241m/\u001b[39mnp\u001b[38;5;241m.\u001b[39mmax(ds1\u001b[38;5;241m.\u001b[39mpixel_array)\n\u001b[0;32m     15\u001b[0m evaluation \u001b[38;5;241m=\u001b[39m ds2\u001b[38;5;241m.\u001b[39mpixel_array\u001b[38;5;241m/\u001b[39mnp\u001b[38;5;241m.\u001b[39mmax(ds2\u001b[38;5;241m.\u001b[39mpixel_array)\n\u001b[0;32m     17\u001b[0m plt\u001b[38;5;241m.\u001b[39mimshow(reference,cmap\u001b[38;5;241m=\u001b[39mplt\u001b[38;5;241m.\u001b[39mcm\u001b[38;5;241m.\u001b[39mgray)\n",
      "File \u001b[1;32mc:\\Users\\eduar\\OneDrive - Universidad de los Andes\\2025-10\\Tesis Física\\FilmQADose rama alternativa\\FilmQADose\\venv_gamma\\lib\\site-packages\\pydicom\\dataset.py:1955\u001b[0m, in \u001b[0;36mDataset.pixel_array\u001b[1;34m(self)\u001b[0m\n\u001b[0;32m   1940\u001b[0m \u001b[38;5;129m@property\u001b[39m\n\u001b[0;32m   1941\u001b[0m \u001b[38;5;28;01mdef\u001b[39;00m\u001b[38;5;250m \u001b[39m\u001b[38;5;21mpixel_array\u001b[39m(\u001b[38;5;28mself\u001b[39m) \u001b[38;5;241m-\u001b[39m\u001b[38;5;241m>\u001b[39m \u001b[38;5;124m\"\u001b[39m\u001b[38;5;124mnumpy.ndarray\u001b[39m\u001b[38;5;124m\"\u001b[39m:\n\u001b[0;32m   1942\u001b[0m \u001b[38;5;250m    \u001b[39m\u001b[38;5;124;03m\"\"\"Return the pixel data as a :class:`numpy.ndarray`.\u001b[39;00m\n\u001b[0;32m   1943\u001b[0m \n\u001b[0;32m   1944\u001b[0m \u001b[38;5;124;03m    .. versionchanged:: 1.4\u001b[39;00m\n\u001b[1;32m   (...)\u001b[0m\n\u001b[0;32m   1953\u001b[0m \u001b[38;5;124;03m        :class:`numpy.ndarray`.\u001b[39;00m\n\u001b[0;32m   1954\u001b[0m \u001b[38;5;124;03m    \"\"\"\u001b[39;00m\n\u001b[1;32m-> 1955\u001b[0m     \u001b[38;5;28;43mself\u001b[39;49m\u001b[38;5;241;43m.\u001b[39;49m\u001b[43mconvert_pixel_data\u001b[49m\u001b[43m(\u001b[49m\u001b[43m)\u001b[49m\n\u001b[0;32m   1956\u001b[0m     \u001b[38;5;28;01mreturn\u001b[39;00m cast(\u001b[38;5;124m\"\u001b[39m\u001b[38;5;124mnumpy.ndarray\u001b[39m\u001b[38;5;124m\"\u001b[39m, \u001b[38;5;28mself\u001b[39m\u001b[38;5;241m.\u001b[39m_pixel_array)\n",
      "File \u001b[1;32mc:\\Users\\eduar\\OneDrive - Universidad de los Andes\\2025-10\\Tesis Física\\FilmQADose rama alternativa\\FilmQADose\\venv_gamma\\lib\\site-packages\\pydicom\\dataset.py:1512\u001b[0m, in \u001b[0;36mDataset.convert_pixel_data\u001b[1;34m(self, handler_name)\u001b[0m\n\u001b[0;32m   1510\u001b[0m     \u001b[38;5;28mself\u001b[39m\u001b[38;5;241m.\u001b[39m_convert_pixel_data_using_handler(handler_name)\n\u001b[0;32m   1511\u001b[0m \u001b[38;5;28;01melse\u001b[39;00m:\n\u001b[1;32m-> 1512\u001b[0m     \u001b[38;5;28;43mself\u001b[39;49m\u001b[38;5;241;43m.\u001b[39;49m\u001b[43m_convert_pixel_data_without_handler\u001b[49m\u001b[43m(\u001b[49m\u001b[43m)\u001b[49m\n",
      "File \u001b[1;32mc:\\Users\\eduar\\OneDrive - Universidad de los Andes\\2025-10\\Tesis Física\\FilmQADose rama alternativa\\FilmQADose\\venv_gamma\\lib\\site-packages\\pydicom\\dataset.py:1599\u001b[0m, in \u001b[0;36mDataset._convert_pixel_data_without_handler\u001b[1;34m(self)\u001b[0m\n\u001b[0;32m   1593\u001b[0m         names \u001b[38;5;241m=\u001b[39m [hh_deps[name][\u001b[38;5;241m1\u001b[39m] \u001b[38;5;28;01mfor\u001b[39;00m name \u001b[38;5;129;01min\u001b[39;00m missing]\n\u001b[0;32m   1594\u001b[0m         pkg_msg\u001b[38;5;241m.\u001b[39mappend(\n\u001b[0;32m   1595\u001b[0m             \u001b[38;5;124mf\u001b[39m\u001b[38;5;124m\"\u001b[39m\u001b[38;5;132;01m{\u001b[39;00mhh\u001b[38;5;241m.\u001b[39mHANDLER_NAME\u001b[38;5;132;01m}\u001b[39;00m\u001b[38;5;124m \u001b[39m\u001b[38;5;124m\"\u001b[39m\n\u001b[0;32m   1596\u001b[0m             \u001b[38;5;124mf\u001b[39m\u001b[38;5;124m\"\u001b[39m\u001b[38;5;124m(req. \u001b[39m\u001b[38;5;132;01m{\u001b[39;00m\u001b[38;5;124m'\u001b[39m\u001b[38;5;124m, \u001b[39m\u001b[38;5;124m'\u001b[39m\u001b[38;5;241m.\u001b[39mjoin(names)\u001b[38;5;132;01m}\u001b[39;00m\u001b[38;5;124m)\u001b[39m\u001b[38;5;124m\"\u001b[39m\n\u001b[0;32m   1597\u001b[0m         )\n\u001b[1;32m-> 1599\u001b[0m     \u001b[38;5;28;01mraise\u001b[39;00m \u001b[38;5;167;01mRuntimeError\u001b[39;00m(msg \u001b[38;5;241m+\u001b[39m \u001b[38;5;124m'\u001b[39m\u001b[38;5;124m, \u001b[39m\u001b[38;5;124m'\u001b[39m\u001b[38;5;241m.\u001b[39mjoin(pkg_msg))\n\u001b[0;32m   1601\u001b[0m last_exception \u001b[38;5;241m=\u001b[39m \u001b[38;5;28;01mNone\u001b[39;00m\n\u001b[0;32m   1602\u001b[0m \u001b[38;5;28;01mfor\u001b[39;00m handler \u001b[38;5;129;01min\u001b[39;00m available_handlers:\n",
      "\u001b[1;31mRuntimeError\u001b[0m: The following handlers are available to decode the pixel data however they are missing required dependencies: Numpy (req. )"
     ]
    }
   ],
   "source": [
    "from pydicom import dcmread\n",
    "import pydicom\n",
    "import numpy as np\n",
    "import pymedphys\n",
    "import matplotlib as mpl\n",
    "import matplotlib.pyplot as plt\n",
    "\n",
    "\n",
    "folder_path = os.path.join('media', 'Juliana 2')\n",
    "\n",
    "ds1 = dcmread(os.path.join(folder_path, 'PiramieGamma.dcm'))\n",
    "ds2 = dcmread(os.path.join(folder_path, 'Piramide2laminas.dcm'))\n",
    "\n",
    "reference = ds1.pixel_array/np.max(ds1.pixel_array)\n",
    "evaluation = ds2.pixel_array/np.max(ds2.pixel_array)\n",
    "\n",
    "plt.imshow(reference,cmap=plt.cm.gray)\n",
    "plt.figure()\n",
    "plt.imshow(evaluation,cmap=plt.cm.gray)\n",
    "plt.show()\n",
    "\n",
    "#reference=reference/26.334\n",
    "#evaluation=evaluation/26.334\n",
    "print(evaluation.shape)\n",
    "print(reference.shape)\n",
    "\n",
    "\n",
    "\n",
    "x1=np.linspace(0,512*ds1.PixelSpacing[0],512)\n",
    "y1=np.linspace(0,512*ds1.PixelSpacing[1],512)\n",
    "\n",
    "x2=np.linspace(0,512*ds2.PixelSpacing[0],512)\n",
    "y2=np.linspace(0,512*ds2.PixelSpacing[1],512)\n",
    "\n",
    "\n",
    "\"\"\"\n",
    "x1=np.linspace(0,300,768)\n",
    "y1=np.linspace(0,400,1024)\n",
    "\n",
    "x2=np.linspace(0,300,768)\n",
    "y2=np.linspace(0,400,1024)\n",
    "\"\"\"\n",
    "\n",
    "ejes1=(x1,y1)\n",
    "ejes2=(x2,y2)\n",
    "\n",
    "dd=1\n",
    "mm=1\n",
    "\n",
    "    \n",
    "\n",
    "\n",
    "gamma_options = {\n",
    "    'dose_percent_threshold': dd,\n",
    "    'distance_mm_threshold': mm,\n",
    "    'lower_percent_dose_cutoff':5,\n",
    "    'interp_fraction':10,  # Should be 10 or more for more accurate results\n",
    "    'max_gamma': 5,\n",
    "    'random_subset': None,\n",
    "    'local_gamma': False,\n",
    "    'ram_available': 5*(2**29)  # 1/2 GB\n",
    "}\n",
    "\n",
    "gamma = pymedphys.gamma(\n",
    "    ejes1, reference,\n",
    "    ejes2, evaluation,\n",
    "    **gamma_options)\n",
    "    \n",
    "plt.imshow(gamma,cmap=plt.cm.gray)\n",
    "valid_gamma = gamma[~np.isnan(gamma)]\n",
    "pass_ratio = np.sum(valid_gamma <= 1) / len(valid_gamma)\n",
    "print(\"El porentaje de aprovacion es\",pass_ratio)\n",
    "\n",
    "valid_gamma = gamma[~np.isnan(gamma)]\n",
    "print(valid_gamma.shape)\n",
    "\n",
    "plt.figure()\n",
    "  \n",
    "valid_gamma = gamma[~np.isnan(gamma)]\n",
    "num_bins = (gamma_options['interp_fraction'] * gamma_options['max_gamma'])\n",
    "bins = np.linspace(0, gamma_options['max_gamma'], num_bins + 1)\n",
    "plt.hist(valid_gamma, bins, density=True)\n",
    "#plt.set_xlim([0, gamma_options['max_gamma']])\n",
    "pass_ratio = np.sum(valid_gamma <= 1) / len(valid_gamma)\n",
    "print(pass_ratio)\n",
    "plt.show()\n"
   ]
  },
  {
   "cell_type": "code",
   "execution_count": 17,
   "metadata": {},
   "outputs": [
    {
     "name": "stdout",
     "output_type": "stream",
     "text": [
      "Collecting pylibjpeg\n",
      "  Downloading pylibjpeg-2.0.1-py3-none-any.whl (24 kB)\n",
      "Collecting pylibjpeg-libjpeg\n",
      "  Downloading pylibjpeg_libjpeg-2.3.0-cp39-cp39-win_amd64.whl (743 kB)\n",
      "Collecting pylibjpeg-openjpeg\n",
      "  Downloading pylibjpeg_openjpeg-2.4.0-cp39-cp39-win_amd64.whl (238 kB)\n",
      "Requirement already satisfied: numpy in c:\\users\\eduar\\onedrive - universidad de los andes\\2025-10\\tesis física\\filmqadose rama alternativa\\filmqadose\\venv_gamma\\lib\\site-packages (from pylibjpeg) (2.0.2)\n",
      "Installing collected packages: pylibjpeg-openjpeg, pylibjpeg-libjpeg, pylibjpeg\n",
      "Successfully installed pylibjpeg-2.0.1 pylibjpeg-libjpeg-2.3.0 pylibjpeg-openjpeg-2.4.0\n"
     ]
    },
    {
     "name": "stderr",
     "output_type": "stream",
     "text": [
      "WARNING: You are using pip version 21.2.3; however, version 25.0.1 is available.\n",
      "You should consider upgrading via the 'C:\\Users\\eduar\\OneDrive - Universidad de los Andes\\2025-10\\Tesis Física\\FilmQADose rama alternativa\\FilmQADose\\venv_gamma\\Scripts\\python.exe -m pip install --upgrade pip' command.\n"
     ]
    }
   ],
   "source": [
    "!pip install pylibjpeg pylibjpeg-libjpeg pylibjpeg-openjpeg"
   ]
  }
 ],
 "metadata": {
  "kernelspec": {
   "display_name": "venv_gamma",
   "language": "python",
   "name": "python3"
  },
  "language_info": {
   "codemirror_mode": {
    "name": "ipython",
    "version": 3
   },
   "file_extension": ".py",
   "mimetype": "text/x-python",
   "name": "python",
   "nbconvert_exporter": "python",
   "pygments_lexer": "ipython3",
   "version": "3.9.7"
  }
 },
 "nbformat": 4,
 "nbformat_minor": 2
}
