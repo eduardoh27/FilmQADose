{
 "cells": [
  {
   "cell_type": "code",
   "execution_count": 1,
   "metadata": {},
   "outputs": [
    {
     "ename": "FileNotFoundError",
     "evalue": "[Errno 2] No such file or directory: 'Dosis0a10.tif'",
     "output_type": "error",
     "traceback": [
      "\u001b[1;31m---------------------------------------------------------------------------\u001b[0m",
      "\u001b[1;31mFileNotFoundError\u001b[0m                         Traceback (most recent call last)",
      "Cell \u001b[1;32mIn[1], line 2\u001b[0m\n\u001b[0;32m      1\u001b[0m \u001b[38;5;28;01mimport\u001b[39;00m\u001b[38;5;250m \u001b[39m\u001b[38;5;21;01mmatplotlib\u001b[39;00m\u001b[38;5;21;01m.\u001b[39;00m\u001b[38;5;21;01mpyplot\u001b[39;00m\u001b[38;5;250m \u001b[39m\u001b[38;5;28;01mas\u001b[39;00m\u001b[38;5;250m \u001b[39m\u001b[38;5;21;01mplt\u001b[39;00m\n\u001b[1;32m----> 2\u001b[0m I \u001b[38;5;241m=\u001b[39m \u001b[43mplt\u001b[49m\u001b[38;5;241;43m.\u001b[39;49m\u001b[43mimread\u001b[49m\u001b[43m(\u001b[49m\u001b[38;5;124;43m\"\u001b[39;49m\u001b[38;5;124;43mDosis0a10.tif\u001b[39;49m\u001b[38;5;124;43m\"\u001b[39;49m\u001b[43m)\u001b[49m\n\u001b[0;32m      3\u001b[0m I\u001b[38;5;241m.\u001b[39mshape\n",
      "File \u001b[1;32mc:\\Users\\eduar\\OneDrive - Universidad de los Andes\\2025-10\\Tesis Física\\FilmQADose rama alternativa\\FilmQADose\\venv39\\lib\\site-packages\\matplotlib\\pyplot.py:2597\u001b[0m, in \u001b[0;36mimread\u001b[1;34m(fname, format)\u001b[0m\n\u001b[0;32m   2593\u001b[0m \u001b[38;5;129m@_copy_docstring_and_deprecators\u001b[39m(matplotlib\u001b[38;5;241m.\u001b[39mimage\u001b[38;5;241m.\u001b[39mimread)\n\u001b[0;32m   2594\u001b[0m \u001b[38;5;28;01mdef\u001b[39;00m\u001b[38;5;250m \u001b[39m\u001b[38;5;21mimread\u001b[39m(\n\u001b[0;32m   2595\u001b[0m         fname: \u001b[38;5;28mstr\u001b[39m \u001b[38;5;241m|\u001b[39m pathlib\u001b[38;5;241m.\u001b[39mPath \u001b[38;5;241m|\u001b[39m BinaryIO, \u001b[38;5;28mformat\u001b[39m: \u001b[38;5;28mstr\u001b[39m \u001b[38;5;241m|\u001b[39m \u001b[38;5;28;01mNone\u001b[39;00m \u001b[38;5;241m=\u001b[39m \u001b[38;5;28;01mNone\u001b[39;00m\n\u001b[0;32m   2596\u001b[0m ) \u001b[38;5;241m-\u001b[39m\u001b[38;5;241m>\u001b[39m np\u001b[38;5;241m.\u001b[39mndarray:\n\u001b[1;32m-> 2597\u001b[0m     \u001b[38;5;28;01mreturn\u001b[39;00m \u001b[43mmatplotlib\u001b[49m\u001b[38;5;241;43m.\u001b[39;49m\u001b[43mimage\u001b[49m\u001b[38;5;241;43m.\u001b[39;49m\u001b[43mimread\u001b[49m\u001b[43m(\u001b[49m\u001b[43mfname\u001b[49m\u001b[43m,\u001b[49m\u001b[43m \u001b[49m\u001b[38;5;28;43mformat\u001b[39;49m\u001b[43m)\u001b[49m\n",
      "File \u001b[1;32mc:\\Users\\eduar\\OneDrive - Universidad de los Andes\\2025-10\\Tesis Física\\FilmQADose rama alternativa\\FilmQADose\\venv39\\lib\\site-packages\\matplotlib\\image.py:1544\u001b[0m, in \u001b[0;36mimread\u001b[1;34m(fname, format)\u001b[0m\n\u001b[0;32m   1537\u001b[0m \u001b[38;5;28;01mif\u001b[39;00m \u001b[38;5;28misinstance\u001b[39m(fname, \u001b[38;5;28mstr\u001b[39m) \u001b[38;5;129;01mand\u001b[39;00m \u001b[38;5;28mlen\u001b[39m(parse\u001b[38;5;241m.\u001b[39murlparse(fname)\u001b[38;5;241m.\u001b[39mscheme) \u001b[38;5;241m>\u001b[39m \u001b[38;5;241m1\u001b[39m:\n\u001b[0;32m   1538\u001b[0m     \u001b[38;5;66;03m# Pillow doesn't handle URLs directly.\u001b[39;00m\n\u001b[0;32m   1539\u001b[0m     \u001b[38;5;28;01mraise\u001b[39;00m \u001b[38;5;167;01mValueError\u001b[39;00m(\n\u001b[0;32m   1540\u001b[0m         \u001b[38;5;124m\"\u001b[39m\u001b[38;5;124mPlease open the URL for reading and pass the \u001b[39m\u001b[38;5;124m\"\u001b[39m\n\u001b[0;32m   1541\u001b[0m         \u001b[38;5;124m\"\u001b[39m\u001b[38;5;124mresult to Pillow, e.g. with \u001b[39m\u001b[38;5;124m\"\u001b[39m\n\u001b[0;32m   1542\u001b[0m         \u001b[38;5;124m\"\u001b[39m\u001b[38;5;124m``np.array(PIL.Image.open(urllib.request.urlopen(url)))``.\u001b[39m\u001b[38;5;124m\"\u001b[39m\n\u001b[0;32m   1543\u001b[0m         )\n\u001b[1;32m-> 1544\u001b[0m \u001b[38;5;28;01mwith\u001b[39;00m \u001b[43mimg_open\u001b[49m\u001b[43m(\u001b[49m\u001b[43mfname\u001b[49m\u001b[43m)\u001b[49m \u001b[38;5;28;01mas\u001b[39;00m image:\n\u001b[0;32m   1545\u001b[0m     \u001b[38;5;28;01mreturn\u001b[39;00m (_pil_png_to_float_array(image)\n\u001b[0;32m   1546\u001b[0m             \u001b[38;5;28;01mif\u001b[39;00m \u001b[38;5;28misinstance\u001b[39m(image, PIL\u001b[38;5;241m.\u001b[39mPngImagePlugin\u001b[38;5;241m.\u001b[39mPngImageFile) \u001b[38;5;28;01melse\u001b[39;00m\n\u001b[0;32m   1547\u001b[0m             pil_to_array(image))\n",
      "File \u001b[1;32mc:\\Users\\eduar\\OneDrive - Universidad de los Andes\\2025-10\\Tesis Física\\FilmQADose rama alternativa\\FilmQADose\\venv39\\lib\\site-packages\\PIL\\Image.py:3465\u001b[0m, in \u001b[0;36mopen\u001b[1;34m(fp, mode, formats)\u001b[0m\n\u001b[0;32m   3462\u001b[0m     filename \u001b[38;5;241m=\u001b[39m os\u001b[38;5;241m.\u001b[39mfspath(fp)\n\u001b[0;32m   3464\u001b[0m \u001b[38;5;28;01mif\u001b[39;00m filename:\n\u001b[1;32m-> 3465\u001b[0m     fp \u001b[38;5;241m=\u001b[39m \u001b[43mbuiltins\u001b[49m\u001b[38;5;241;43m.\u001b[39;49m\u001b[43mopen\u001b[49m\u001b[43m(\u001b[49m\u001b[43mfilename\u001b[49m\u001b[43m,\u001b[49m\u001b[43m \u001b[49m\u001b[38;5;124;43m\"\u001b[39;49m\u001b[38;5;124;43mrb\u001b[39;49m\u001b[38;5;124;43m\"\u001b[39;49m\u001b[43m)\u001b[49m\n\u001b[0;32m   3466\u001b[0m     exclusive_fp \u001b[38;5;241m=\u001b[39m \u001b[38;5;28;01mTrue\u001b[39;00m\n\u001b[0;32m   3467\u001b[0m \u001b[38;5;28;01melse\u001b[39;00m:\n",
      "\u001b[1;31mFileNotFoundError\u001b[0m: [Errno 2] No such file or directory: 'Dosis0a10.tif'"
     ]
    }
   ],
   "source": [
    "import matplotlib.pyplot as plt\n",
    "I = plt.imread(\"Dosis0a10.tif\")\n",
    "I.shape"
   ]
  },
  {
   "cell_type": "code",
   "execution_count": null,
   "metadata": {},
   "outputs": [
    {
     "name": "stdout",
     "output_type": "stream",
     "text": [
      "(1041, 822)\n",
      "252\n",
      "21\n",
      "(1041, 822)\n",
      "255\n",
      "22\n",
      "(1041, 822)\n",
      "255\n",
      "31\n"
     ]
    }
   ],
   "source": [
    "for i in range(3):\n",
    "    image_canal = I[:,:,i]\n",
    "    print(image_canal.shape)\n",
    "    print(image_canal.max())\n",
    "    print(image_canal.min())"
   ]
  },
  {
   "cell_type": "code",
   "execution_count": null,
   "metadata": {},
   "outputs": [
    {
     "name": "stdout",
     "output_type": "stream",
     "text": [
      "(822, 1041)\n"
     ]
    }
   ],
   "source": [
    "from PIL import Image\n",
    "img = Image.open(\"Dosis0a10.tif\")\n",
    "print(img.size)\n",
    "img.show()"
   ]
  },
  {
   "cell_type": "code",
   "execution_count": null,
   "metadata": {},
   "outputs": [
    {
     "data": {
      "text/plain": [
       "(1041, 822, 3)"
      ]
     },
     "execution_count": 23,
     "metadata": {},
     "output_type": "execute_result"
    }
   ],
   "source": [
    "import numpy\n",
    "imarray = numpy.array(img)\n",
    "imarray.shape\n"
   ]
  },
  {
   "cell_type": "code",
   "execution_count": null,
   "metadata": {},
   "outputs": [
    {
     "name": "stdout",
     "output_type": "stream",
     "text": [
      "(1041, 822)\n",
      "252\n",
      "21\n",
      "(1041, 822)\n",
      "255\n",
      "22\n",
      "(1041, 822)\n",
      "255\n",
      "31\n"
     ]
    }
   ],
   "source": [
    "for i in range(3):\n",
    "    image_canal = imarray[:,:,i]\n",
    "    print(image_canal.shape)\n",
    "    print(image_canal.max())\n",
    "    print(image_canal.min())"
   ]
  },
  {
   "cell_type": "code",
   "execution_count": null,
   "metadata": {},
   "outputs": [
    {
     "data": {
      "text/plain": [
       "(1041, 822, 3)"
      ]
     },
     "execution_count": 8,
     "metadata": {},
     "output_type": "execute_result"
    }
   ],
   "source": [
    "from calibration.image_processing import read_image\n",
    "\n",
    "image = read_image(\"Dosis0a10.tif\")\n",
    "image.shape"
   ]
  },
  {
   "cell_type": "code",
   "execution_count": null,
   "metadata": {},
   "outputs": [
    {
     "name": "stdout",
     "output_type": "stream",
     "text": [
      "(1041, 822)\n",
      "252\n",
      "21\n",
      "(1041, 822)\n",
      "255\n",
      "22\n",
      "(1041, 822)\n",
      "255\n",
      "31\n"
     ]
    }
   ],
   "source": [
    "for i in range(3):\n",
    "    image_canal = image[:,:,i]\n",
    "    print(image_canal.shape)\n",
    "    print(image_canal.max())\n",
    "    print(image_canal.min())"
   ]
  },
  {
   "cell_type": "markdown",
   "metadata": {},
   "source": [
    "# TIFF"
   ]
  },
  {
   "cell_type": "code",
   "execution_count": null,
   "metadata": {},
   "outputs": [
    {
     "name": "stdout",
     "output_type": "stream",
     "text": [
      "Inspecting TiffFile 'FondoNegro-1.tif'  4.96 MiB  \n",
      "Shape: (1041, 822, 3)\n",
      "Number of pages: 1\n",
      "\n",
      "Page #0: with 16 tags\n",
      "\n",
      "TAG #0: NewSubfileType\n",
      "FILETYPE.UNDEFINED\n",
      "\n",
      "TAG #1: ImageWidth\n",
      "822\n",
      "\n",
      "TAG #2: ImageLength\n",
      "1041\n",
      "\n",
      "TAG #3: BitsPerSample\n",
      "(16, 16, 16)\n",
      "\n",
      "TAG #4: Compression\n",
      "COMPRESSION.NONE\n",
      "\n",
      "TAG #5: PhotometricInterpretation\n",
      "PHOTOMETRIC.RGB\n",
      "\n",
      "TAG #6: StripOffsets\n",
      "Size of value is too large to print\n",
      "\n",
      "TAG #7: SamplesPerPixel\n",
      "3\n",
      "\n",
      "TAG #8: RowsPerStrip\n",
      "1\n",
      "\n",
      "TAG #9: StripByteCounts\n",
      "Size of value is too large to print\n",
      "\n",
      "TAG #10: XResolution\n",
      "(1000000, 10000)\n",
      "\n",
      "TAG #11: YResolution\n",
      "(1000000, 10000)\n",
      "\n",
      "TAG #12: PlanarConfiguration\n",
      "PLANARCONFIG.CONTIG\n",
      "\n",
      "TAG #13: ResolutionUnit\n",
      "RESUNIT.INCH\n",
      "\n",
      "TAG #14: Predictor\n",
      "PREDICTOR.NONE\n",
      "\n",
      "TAG #15: InterColorProfile\n",
      "Size of value is too large to print\n"
     ]
    }
   ],
   "source": [
    "import tifffile as tiff\n",
    "from tifffile import TiffFile\n",
    "\n",
    "def analyze_tiff_file(file_path):\n",
    "\n",
    "    # Open the TIFF file\n",
    "    image = tiff.imread(file_path)\n",
    "\n",
    "    with TiffFile(file_path) as tif:\n",
    "        print(f'Inspecting {tif}')\n",
    "        print('Shape:', image.shape)\n",
    "\n",
    "        print('Number of pages:', len(tif.pages))\n",
    "        for page in tif.pages:\n",
    "            print(f'\\nPage #{page.index}: with {len(page.tags)} tags')\n",
    "            for i, tag in enumerate(page.tags):\n",
    "                print(f'\\nTAG #{i}: {tag.name}')\n",
    "                try:\n",
    "                    #print(len(tag.value))\n",
    "                    if len(tag.value) < 100:\n",
    "                        print(tag.value)\n",
    "                    else:\n",
    "                        print(\"Size of value is too large to print\")\n",
    "                except: # If the value doesnt have a length\n",
    "                    print(tag.value)\n",
    "\n",
    "    return image\n",
    "                    \n",
    "#path = \"Dosis0a10.tif\"\n",
    "path = \"FondoNegro-1.tif\"\n",
    "image = analyze_tiff_file(path)"
   ]
  },
  {
   "cell_type": "code",
   "execution_count": null,
   "metadata": {},
   "outputs": [
    {
     "name": "stdout",
     "output_type": "stream",
     "text": [
      "(1041, 822)\n",
      "7039\n",
      "514\n",
      "(1041, 822)\n",
      "9126\n",
      "514\n",
      "(1041, 822)\n",
      "8835\n",
      "1226\n"
     ]
    }
   ],
   "source": [
    "for i in range(3):\n",
    "    image_canal = image[:,:,i]\n",
    "    print(image_canal.shape)\n",
    "    print(image_canal.max())\n",
    "    print(image_canal.min())"
   ]
  },
  {
   "cell_type": "code",
   "execution_count": null,
   "metadata": {},
   "outputs": [],
   "source": [
    "import cv2"
   ]
  },
  {
   "cell_type": "code",
   "execution_count": null,
   "metadata": {},
   "outputs": [
    {
     "name": "stdout",
     "output_type": "stream",
     "text": [
      "uint16\n",
      "(1041, 822, 3)\n"
     ]
    }
   ],
   "source": [
    "im = cv2.imread('Dosis0a10.tif', -1)\n",
    "print(im.dtype)\n",
    "print(im.shape)"
   ]
  },
  {
   "cell_type": "code",
   "execution_count": null,
   "metadata": {},
   "outputs": [
    {
     "name": "stdout",
     "output_type": "stream",
     "text": [
      "(1041, 822)\n",
      "7039\n",
      "514\n",
      "(1041, 822)\n",
      "9126\n",
      "514\n",
      "(1041, 822)\n",
      "8835\n",
      "1226\n"
     ]
    }
   ],
   "source": [
    "for i in range(3):\n",
    "    image_canal = image[:,:,i]\n",
    "    print(image_canal.shape)\n",
    "    print(image_canal.max())\n",
    "    print(image_canal.min())"
   ]
  }
 ],
 "metadata": {
  "kernelspec": {
   "display_name": "venv39",
   "language": "python",
   "name": "python3"
  },
  "language_info": {
   "codemirror_mode": {
    "name": "ipython",
    "version": 3
   },
   "file_extension": ".py",
   "mimetype": "text/x-python",
   "name": "python",
   "nbconvert_exporter": "python",
   "pygments_lexer": "ipython3",
   "version": "3.9.7"
  }
 },
 "nbformat": 4,
 "nbformat_minor": 2
}
