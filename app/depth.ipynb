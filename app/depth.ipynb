{
 "cells": [
  {
   "cell_type": "code",
   "execution_count": 28,
   "metadata": {},
   "outputs": [
    {
     "data": {
      "text/plain": [
       "(1041, 822, 3)"
      ]
     },
     "execution_count": 28,
     "metadata": {},
     "output_type": "execute_result"
    }
   ],
   "source": [
    "import matplotlib.pyplot as plt\n",
    "I = plt.imread(\"Dosis0a10.tif\")\n",
    "I.shape"
   ]
  },
  {
   "cell_type": "code",
   "execution_count": 29,
   "metadata": {},
   "outputs": [
    {
     "name": "stdout",
     "output_type": "stream",
     "text": [
      "(1041, 822)\n",
      "252\n",
      "21\n",
      "(1041, 822)\n",
      "255\n",
      "22\n",
      "(1041, 822)\n",
      "255\n",
      "31\n"
     ]
    }
   ],
   "source": [
    "for i in range(3):\n",
    "    image_canal = I[:,:,i]\n",
    "    print(image_canal.shape)\n",
    "    print(image_canal.max())\n",
    "    print(image_canal.min())"
   ]
  },
  {
   "cell_type": "code",
   "execution_count": 19,
   "metadata": {},
   "outputs": [
    {
     "name": "stdout",
     "output_type": "stream",
     "text": [
      "(822, 1041)\n"
     ]
    }
   ],
   "source": [
    "from PIL import Image\n",
    "img = Image.open(\"Dosis0a10.tif\")\n",
    "print(img.size)\n",
    "img.show()"
   ]
  },
  {
   "cell_type": "code",
   "execution_count": null,
   "metadata": {},
   "outputs": [
    {
     "data": {
      "text/plain": [
       "(1041, 822, 3)"
      ]
     },
     "execution_count": 23,
     "metadata": {},
     "output_type": "execute_result"
    }
   ],
   "source": [
    "import numpy\n",
    "imarray = numpy.array(img)\n",
    "imarray.shape\n"
   ]
  },
  {
   "cell_type": "code",
   "execution_count": 25,
   "metadata": {},
   "outputs": [
    {
     "name": "stdout",
     "output_type": "stream",
     "text": [
      "(1041, 822)\n",
      "252\n",
      "21\n",
      "(1041, 822)\n",
      "255\n",
      "22\n",
      "(1041, 822)\n",
      "255\n",
      "31\n"
     ]
    }
   ],
   "source": [
    "for i in range(3):\n",
    "    image_canal = imarray[:,:,i]\n",
    "    print(image_canal.shape)\n",
    "    print(image_canal.max())\n",
    "    print(image_canal.min())"
   ]
  },
  {
   "cell_type": "code",
   "execution_count": 8,
   "metadata": {},
   "outputs": [
    {
     "data": {
      "text/plain": [
       "(1041, 822, 3)"
      ]
     },
     "execution_count": 8,
     "metadata": {},
     "output_type": "execute_result"
    }
   ],
   "source": [
    "from calibration.image_processing import read_image\n",
    "\n",
    "image = read_image(\"Dosis0a10.tif\")\n",
    "image.shape"
   ]
  },
  {
   "cell_type": "code",
   "execution_count": 14,
   "metadata": {},
   "outputs": [
    {
     "name": "stdout",
     "output_type": "stream",
     "text": [
      "(1041, 822)\n",
      "252\n",
      "21\n",
      "(1041, 822)\n",
      "255\n",
      "22\n",
      "(1041, 822)\n",
      "255\n",
      "31\n"
     ]
    }
   ],
   "source": [
    "for i in range(3):\n",
    "    image_canal = image[:,:,i]\n",
    "    print(image_canal.shape)\n",
    "    print(image_canal.max())\n",
    "    print(image_canal.min())"
   ]
  },
  {
   "cell_type": "markdown",
   "metadata": {},
   "source": [
    "# TIFF"
   ]
  },
  {
   "cell_type": "code",
   "execution_count": 31,
   "metadata": {},
   "outputs": [
    {
     "name": "stdout",
     "output_type": "stream",
     "text": [
      "Inspecting TiffFile 'FondoNegro-1.tif'  4.96 MiB  \n",
      "Shape: (1041, 822, 3)\n",
      "Number of pages: 1\n",
      "\n",
      "Page #0: with 16 tags\n",
      "\n",
      "TAG #0: NewSubfileType\n",
      "FILETYPE.UNDEFINED\n",
      "\n",
      "TAG #1: ImageWidth\n",
      "822\n",
      "\n",
      "TAG #2: ImageLength\n",
      "1041\n",
      "\n",
      "TAG #3: BitsPerSample\n",
      "(16, 16, 16)\n",
      "\n",
      "TAG #4: Compression\n",
      "COMPRESSION.NONE\n",
      "\n",
      "TAG #5: PhotometricInterpretation\n",
      "PHOTOMETRIC.RGB\n",
      "\n",
      "TAG #6: StripOffsets\n",
      "Size of value is too large to print\n",
      "\n",
      "TAG #7: SamplesPerPixel\n",
      "3\n",
      "\n",
      "TAG #8: RowsPerStrip\n",
      "1\n",
      "\n",
      "TAG #9: StripByteCounts\n",
      "Size of value is too large to print\n",
      "\n",
      "TAG #10: XResolution\n",
      "(1000000, 10000)\n",
      "\n",
      "TAG #11: YResolution\n",
      "(1000000, 10000)\n",
      "\n",
      "TAG #12: PlanarConfiguration\n",
      "PLANARCONFIG.CONTIG\n",
      "\n",
      "TAG #13: ResolutionUnit\n",
      "RESUNIT.INCH\n",
      "\n",
      "TAG #14: Predictor\n",
      "PREDICTOR.NONE\n",
      "\n",
      "TAG #15: InterColorProfile\n",
      "Size of value is too large to print\n"
     ]
    }
   ],
   "source": [
    "import tifffile as tiff\n",
    "from tifffile import TiffFile\n",
    "\n",
    "def analyze_tiff_file(file_path):\n",
    "\n",
    "    # Open the TIFF file\n",
    "    image = tiff.imread(file_path)\n",
    "\n",
    "    with TiffFile(file_path) as tif:\n",
    "        print(f'Inspecting {tif}')\n",
    "        print('Shape:', image.shape)\n",
    "\n",
    "        print('Number of pages:', len(tif.pages))\n",
    "        for page in tif.pages:\n",
    "            print(f'\\nPage #{page.index}: with {len(page.tags)} tags')\n",
    "            for i, tag in enumerate(page.tags):\n",
    "                print(f'\\nTAG #{i}: {tag.name}')\n",
    "                try:\n",
    "                    #print(len(tag.value))\n",
    "                    if len(tag.value) < 100:\n",
    "                        print(tag.value)\n",
    "                    else:\n",
    "                        print(\"Size of value is too large to print\")\n",
    "                except: # If the value doesnt have a length\n",
    "                    print(tag.value)\n",
    "\n",
    "    return image\n",
    "                    \n",
    "#path = \"Dosis0a10.tif\"\n",
    "path = \"FondoNegro-1.tif\"\n",
    "image = analyze_tiff_file(path)"
   ]
  },
  {
   "cell_type": "code",
   "execution_count": 35,
   "metadata": {},
   "outputs": [
    {
     "name": "stdout",
     "output_type": "stream",
     "text": [
      "(1041, 822)\n",
      "7039\n",
      "514\n",
      "(1041, 822)\n",
      "9126\n",
      "514\n",
      "(1041, 822)\n",
      "8835\n",
      "1226\n"
     ]
    }
   ],
   "source": [
    "for i in range(3):\n",
    "    image_canal = image[:,:,i]\n",
    "    print(image_canal.shape)\n",
    "    print(image_canal.max())\n",
    "    print(image_canal.min())"
   ]
  },
  {
   "cell_type": "code",
   "execution_count": 37,
   "metadata": {},
   "outputs": [],
   "source": [
    "import cv2"
   ]
  },
  {
   "cell_type": "code",
   "execution_count": 43,
   "metadata": {},
   "outputs": [
    {
     "name": "stdout",
     "output_type": "stream",
     "text": [
      "uint16\n",
      "(1041, 822, 3)\n"
     ]
    }
   ],
   "source": [
    "im = cv2.imread('Dosis0a10.tif', -1)\n",
    "print(im.dtype)\n",
    "print(im.shape)"
   ]
  },
  {
   "cell_type": "code",
   "execution_count": 42,
   "metadata": {},
   "outputs": [
    {
     "name": "stdout",
     "output_type": "stream",
     "text": [
      "(1041, 822)\n",
      "7039\n",
      "514\n",
      "(1041, 822)\n",
      "9126\n",
      "514\n",
      "(1041, 822)\n",
      "8835\n",
      "1226\n"
     ]
    }
   ],
   "source": [
    "for i in range(3):\n",
    "    image_canal = image[:,:,i]\n",
    "    print(image_canal.shape)\n",
    "    print(image_canal.max())\n",
    "    print(image_canal.min())"
   ]
  }
 ],
 "metadata": {
  "kernelspec": {
   "display_name": "venv39",
   "language": "python",
   "name": "python3"
  },
  "language_info": {
   "codemirror_mode": {
    "name": "ipython",
    "version": 3
   },
   "file_extension": ".py",
   "mimetype": "text/x-python",
   "name": "python",
   "nbconvert_exporter": "python",
   "pygments_lexer": "ipython3",
   "version": "3.9.7"
  }
 },
 "nbformat": 4,
 "nbformat_minor": 2
}
